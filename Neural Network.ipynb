{
 "cells": [
  {
   "cell_type": "code",
   "execution_count": 2,
   "metadata": {},
   "outputs": [],
   "source": [
    "import numpy as np"
   ]
  },
  {
   "cell_type": "code",
   "execution_count": 3,
   "metadata": {},
   "outputs": [],
   "source": [
    "def sigmoid(x):\n",
    "    return 1/(1+np.exp(-x))"
   ]
  },
  {
   "cell_type": "code",
   "execution_count": 4,
   "metadata": {},
   "outputs": [],
   "source": [
    "def relu(x):\n",
    "    return max(0,x)"
   ]
  },
  {
   "cell_type": "code",
   "execution_count": 5,
   "metadata": {},
   "outputs": [],
   "source": [
    "def leaky_relu(x):\n",
    "    return max(0.2*x,x)"
   ]
  },
  {
   "cell_type": "code",
   "execution_count": 6,
   "metadata": {},
   "outputs": [],
   "source": [
    "def tanh(x):\n",
    "    return (exp(2*x)-1)/(exp(2*x)+1)"
   ]
  },
  {
   "cell_type": "code",
   "execution_count": 7,
   "metadata": {},
   "outputs": [],
   "source": [
    "def d_sigmoid(x):\n",
    "    return (x*(1-x))"
   ]
  },
  {
   "cell_type": "code",
   "execution_count": 8,
   "metadata": {},
   "outputs": [],
   "source": [
    "def d_tanh(x):\n",
    "    return x*x-1"
   ]
  },
  {
   "cell_type": "code",
   "execution_count": null,
   "metadata": {},
   "outputs": [],
   "source": []
  },
  {
   "cell_type": "code",
   "execution_count": 9,
   "metadata": {},
   "outputs": [],
   "source": [
    "x=np.array([[0,1,1],[0,1,1],[1,0,1],[1,1,1]])"
   ]
  },
  {
   "cell_type": "code",
   "execution_count": 10,
   "metadata": {},
   "outputs": [],
   "source": [
    "y=np.array([[0],[1],[1],[0]])"
   ]
  },
  {
   "cell_type": "code",
   "execution_count": 11,
   "metadata": {},
   "outputs": [],
   "source": [
    "alphas=[0.001,0.01,0.1,1,10,100,1000]"
   ]
  },
  {
   "cell_type": "code",
   "execution_count": 12,
   "metadata": {},
   "outputs": [
    {
     "name": "stdout",
     "output_type": "stream",
     "text": [
      "\n",
      "Training with Alpha= 0.001\n",
      "Error after 0 iteration 0.5057551263023694\n",
      "Error after 10000 iteration 0.4975188002902844\n",
      "Error after 20000 iteration 0.494137237447267\n",
      "Error after 30000 iteration 0.49717775514172413\n",
      "Error after 40000 iteration 0.49813118729570793\n",
      "Error after 50000 iteration 0.49859832845379026\n",
      "\n",
      "Training with Alpha= 0.01\n",
      "Error after 0 iteration 0.5058104359606231\n",
      "Error after 10000 iteration 0.4993227047497952\n",
      "Error after 20000 iteration 0.4996692520033901\n",
      "Error after 30000 iteration 0.4997795488994197\n",
      "Error after 40000 iteration 0.49983405292259553\n",
      "Error after 50000 iteration 0.4998666412929681\n",
      "\n",
      "Training with Alpha= 0.1\n",
      "Error after 0 iteration 0.5016723677023438\n"
     ]
    },
    {
     "name": "stderr",
     "output_type": "stream",
     "text": [
      "/usr/local/lib/python3.5/dist-packages/ipykernel_launcher.py:2: RuntimeWarning: overflow encountered in exp\n",
      "  \n"
     ]
    },
    {
     "name": "stdout",
     "output_type": "stream",
     "text": [
      "Error after 10000 iteration 0.49981231100648815\n",
      "Error after 20000 iteration 0.4999484837818806\n",
      "Error after 30000 iteration 0.4999741083697636\n",
      "Error after 40000 iteration 0.49998382898977284\n",
      "Error after 50000 iteration 0.4999886954290611\n",
      "\n",
      "Training with Alpha= 1\n",
      "Error after 0 iteration 0.5064707196993097\n",
      "Error after 10000 iteration 0.49999400490834645\n",
      "Error after 20000 iteration 0.499999185144289\n",
      "Error after 30000 iteration 0.5000025126496279\n",
      "Error after 40000 iteration 0.5000203585002816\n",
      "Error after 50000 iteration 0.5000014655247265\n",
      "\n",
      "Training with Alpha= 10\n",
      "Error after 0 iteration 0.5040727547421955\n",
      "Error after 10000 iteration 0.4999999999999817\n",
      "Error after 20000 iteration 0.4999999999999817\n",
      "Error after 30000 iteration 0.4999999999999817\n",
      "Error after 40000 iteration 0.4999999999999817\n",
      "Error after 50000 iteration 0.4999999999999817\n",
      "\n",
      "Training with Alpha= 100\n",
      "Error after 0 iteration 0.5045556842312798\n",
      "Error after 10000 iteration 0.5\n",
      "Error after 20000 iteration 0.5\n",
      "Error after 30000 iteration 0.5\n",
      "Error after 40000 iteration 0.5\n",
      "Error after 50000 iteration 0.5\n",
      "\n",
      "Training with Alpha= 1000\n",
      "Error after 0 iteration 0.5050658921214546\n",
      "Error after 10000 iteration 0.5\n",
      "Error after 20000 iteration 0.5\n",
      "Error after 30000 iteration 0.5\n",
      "Error after 40000 iteration 0.5\n",
      "Error after 50000 iteration 0.5\n"
     ]
    }
   ],
   "source": [
    "for alpha in alphas:\n",
    "    print(\"\\nTraining with Alpha=\",str(alpha))\n",
    "    synapse_0=np.random.random((3,4)) # 3 corresponds to inputs and 4 to hidden layers\n",
    "    synapse_1=np.random.random((4,1)) #4 corresponds to hidden layers and 1 to output\n",
    "    \n",
    "    for j in range(60000): #60000 epochs ie. Iterations\n",
    "        layer_0=x\n",
    "        layer_1=sigmoid(np.dot(layer_0,synapse_0)) #dot product\n",
    "        layer_2=sigmoid(np.dot(layer_1,synapse_1)) \n",
    "        \n",
    "        layer_2_error= layer_2-y\n",
    "        \n",
    "        if j%10000==0:\n",
    "            print(\"Error after \"+str(j)+\" iteration \"+str(np.mean(np.abs(layer_2_error))))\n",
    "        \n",
    "        layer_2_delta=layer_2_error*d_tanh(layer_2)\n",
    "        \n",
    "        layer_1_error=layer_2_delta.dot(synapse_1.T) # T= Transpose\n",
    "        \n",
    "        layer_1_delta=layer_1_error*d_tanh(layer_1)\n",
    "        \n",
    "        synapse_1-=alpha*(layer_1.T.dot(layer_2_delta))\n",
    "        \n",
    "        synapse_0-= alpha*(layer_0.T.dot(layer_1_delta))\n",
    "        \n",
    "        "
   ]
  },
  {
   "cell_type": "code",
   "execution_count": null,
   "metadata": {},
   "outputs": [],
   "source": []
  }
 ],
 "metadata": {
  "kernelspec": {
   "display_name": "Python 3",
   "language": "python",
   "name": "python3"
  },
  "language_info": {
   "codemirror_mode": {
    "name": "ipython",
    "version": 3
   },
   "file_extension": ".py",
   "mimetype": "text/x-python",
   "name": "python",
   "nbconvert_exporter": "python",
   "pygments_lexer": "ipython3",
   "version": "3.5.2"
  }
 },
 "nbformat": 4,
 "nbformat_minor": 2
}
